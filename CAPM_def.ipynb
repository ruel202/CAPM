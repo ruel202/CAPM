{
 "cells": [
  {
   "cell_type": "markdown",
   "id": "efc7b83d-727f-43a9-af65-05addf92c4cf",
   "metadata": {},
   "source": [
    "## Capital Asset Pricing Model "
   ]
  },
  {
   "cell_type": "markdown",
   "id": "6c35aedc-6620-4939-8550-e907a2b60169",
   "metadata": {},
   "source": [
    "#### This is a notebook about the CAPM model and all the definitions related to it. \n"
   ]
  },
  {
   "cell_type": "code",
   "execution_count": 11,
   "id": "b603abd0-c4ff-403b-b991-74da6db032b4",
   "metadata": {},
   "outputs": [],
   "source": [
    "import yfinance as yf\n",
    "import numpy as np\n",
    "import matplotlib.pyplot as plt\n",
    "import pandas as pd\n",
    "from pandas_datareader import data as wb\n",
    "import datetime as dt"
   ]
  },
  {
   "cell_type": "markdown",
   "id": "a9fa3f94-1bb2-4d5e-864f-849e904275fb",
   "metadata": {},
   "source": [
    "### 1. Portfolio Risk\n",
    "<b>Portfolio Risk</b> : There are usually two types of risk that can affect a portfolio(stocks, assets,...). \n",
    "<br>The first one is called <b>systematic risk</b>, which is basically the risk from general economics conditions, such as inflations, interest rats, exchange rates,... In another word - Macroeconomic factors that are non-predicted.\n",
    "<br> The second type is <b>non-systematic risk</b> or diversifiable risk, are those who are unique to a specific company or industry (labor, regulatory changes, shortages of raw materials,...). This kind of risk can be minimized  and eliminated by diversification"
   ]
  },
  {
   "cell_type": "markdown",
   "id": "eba3d857-52e8-4046-a95b-33192b15902d",
   "metadata": {},
   "source": [
    "### 2. Covariance and Correlation\n",
    "I will do a super brief overview on this section. Consider we are working on a variable space : \n",
    "<br>\n",
    "1.<b>Covariance</b> : A key determinant of portfolio risk is the extent to which\n",
    "the returns on the two assets vary either in <b>tandem or in opposition</b>. The <b>sign</b> of the covariance is determined by whether deviations from the mean move together and whether they are small or large at the same time \n",
    "<p style=\"text-align: center;\">\n",
    "    $Cov(X_p,X_q)=\\sum f_i [x_{i,p}-E(X_p)] [x_{i,q}-E(X_q)]$\n",
    "          </p>\n",
    "$f_i $ - probability-weighted average\n",
    "<br>\n",
    "2.<b>Correlation ($\\rho$)</b> : measure the linear relationship between 2 variables.\n",
    "<br>i. Correlation can range from [-1;1]\n",
    "<br>ii. A correlation of -1 indicates that one asset’s return varies perfectly inversely with the other’s. t. Conversely, a correlation of +1 would indicate perfect positive correlation\n",
    "<br>\n",
    "<p style=\"text-align: center;\">\n",
    "    $Corr(X_p,X_q)=\\frac{cov(X_p,X_q)}{\\sigma_p \\sigma_q}$\n",
    "          </p>"
   ]
  },
  {
   "cell_type": "code",
   "execution_count": 11,
   "id": "5fdeee82-5155-4a47-bfbb-6dee27b004a5",
   "metadata": {
    "scrolled": true
   },
   "outputs": [
    {
     "name": "stderr",
     "output_type": "stream",
     "text": [
      "C:\\Users\\famcha\\AppData\\Local\\Programs\\Python\\Python312\\Lib\\site-packages\\yfinance\\utils.py:775: FutureWarning: The 'unit' keyword in TimedeltaIndex construction is deprecated and will be removed in a future version. Use pd.to_timedelta instead.\n",
      "  df.index += _pd.TimedeltaIndex(dst_error_hours, 'h')\n",
      "[*********************100%%**********************]  1 of 1 completed\n",
      "C:\\Users\\famcha\\AppData\\Local\\Programs\\Python\\Python312\\Lib\\site-packages\\yfinance\\utils.py:775: FutureWarning: The 'unit' keyword in TimedeltaIndex construction is deprecated and will be removed in a future version. Use pd.to_timedelta instead.\n",
      "  df.index += _pd.TimedeltaIndex(dst_error_hours, 'h')\n",
      "[*********************100%%**********************]  1 of 1 completed\n",
      "C:\\Users\\famcha\\AppData\\Local\\Programs\\Python\\Python312\\Lib\\site-packages\\yfinance\\utils.py:775: FutureWarning: The 'unit' keyword in TimedeltaIndex construction is deprecated and will be removed in a future version. Use pd.to_timedelta instead.\n",
      "  df.index += _pd.TimedeltaIndex(dst_error_hours, 'h')\n",
      "[*********************100%%**********************]  1 of 1 completed\n",
      "C:\\Users\\famcha\\AppData\\Local\\Programs\\Python\\Python312\\Lib\\site-packages\\yfinance\\utils.py:775: FutureWarning: The 'unit' keyword in TimedeltaIndex construction is deprecated and will be removed in a future version. Use pd.to_timedelta instead.\n",
      "  df.index += _pd.TimedeltaIndex(dst_error_hours, 'h')\n",
      "[*********************100%%**********************]  1 of 1 completed\n",
      "C:\\Users\\famcha\\AppData\\Local\\Programs\\Python\\Python312\\Lib\\site-packages\\yfinance\\utils.py:775: FutureWarning: The 'unit' keyword in TimedeltaIndex construction is deprecated and will be removed in a future version. Use pd.to_timedelta instead.\n",
      "  df.index += _pd.TimedeltaIndex(dst_error_hours, 'h')\n",
      "[*********************100%%**********************]  1 of 1 completed\n",
      "C:\\Users\\famcha\\AppData\\Local\\Programs\\Python\\Python312\\Lib\\site-packages\\yfinance\\utils.py:775: FutureWarning: The 'unit' keyword in TimedeltaIndex construction is deprecated and will be removed in a future version. Use pd.to_timedelta instead.\n",
      "  df.index += _pd.TimedeltaIndex(dst_error_hours, 'h')\n",
      "[*********************100%%**********************]  1 of 1 completed\n"
     ]
    },
    {
     "data": {
      "text/html": [
       "<div>\n",
       "<style scoped>\n",
       "    .dataframe tbody tr th:only-of-type {\n",
       "        vertical-align: middle;\n",
       "    }\n",
       "\n",
       "    .dataframe tbody tr th {\n",
       "        vertical-align: top;\n",
       "    }\n",
       "\n",
       "    .dataframe thead th {\n",
       "        text-align: right;\n",
       "    }\n",
       "</style>\n",
       "<table border=\"1\" class=\"dataframe\">\n",
       "  <thead>\n",
       "    <tr style=\"text-align: right;\">\n",
       "      <th></th>\n",
       "      <th>LLY</th>\n",
       "      <th>NVO</th>\n",
       "      <th>JNJ</th>\n",
       "      <th>PFE</th>\n",
       "      <th>AZN</th>\n",
       "      <th>^GSPC</th>\n",
       "    </tr>\n",
       "    <tr>\n",
       "      <th>Date</th>\n",
       "      <th></th>\n",
       "      <th></th>\n",
       "      <th></th>\n",
       "      <th></th>\n",
       "      <th></th>\n",
       "      <th></th>\n",
       "    </tr>\n",
       "  </thead>\n",
       "  <tbody>\n",
       "    <tr>\n",
       "      <th>2023-10-16</th>\n",
       "      <td>616.640015</td>\n",
       "      <td>101.150002</td>\n",
       "      <td>157.529999</td>\n",
       "      <td>33.270000</td>\n",
       "      <td>67.820000</td>\n",
       "      <td>4373.629883</td>\n",
       "    </tr>\n",
       "    <tr>\n",
       "      <th>2023-10-17</th>\n",
       "      <td>608.309998</td>\n",
       "      <td>101.160004</td>\n",
       "      <td>156.089996</td>\n",
       "      <td>32.750000</td>\n",
       "      <td>69.279999</td>\n",
       "      <td>4373.200195</td>\n",
       "    </tr>\n",
       "    <tr>\n",
       "      <th>2023-10-18</th>\n",
       "      <td>607.239990</td>\n",
       "      <td>100.570000</td>\n",
       "      <td>152.729996</td>\n",
       "      <td>31.410000</td>\n",
       "      <td>65.239998</td>\n",
       "      <td>4314.600098</td>\n",
       "    </tr>\n",
       "    <tr>\n",
       "      <th>2023-10-19</th>\n",
       "      <td>590.799988</td>\n",
       "      <td>97.660004</td>\n",
       "      <td>152.320007</td>\n",
       "      <td>31.190001</td>\n",
       "      <td>64.419998</td>\n",
       "      <td>4278.000000</td>\n",
       "    </tr>\n",
       "    <tr>\n",
       "      <th>2023-10-20</th>\n",
       "      <td>584.640015</td>\n",
       "      <td>96.290001</td>\n",
       "      <td>153.000000</td>\n",
       "      <td>30.650000</td>\n",
       "      <td>63.830002</td>\n",
       "      <td>4224.160156</td>\n",
       "    </tr>\n",
       "    <tr>\n",
       "      <th>...</th>\n",
       "      <td>...</td>\n",
       "      <td>...</td>\n",
       "      <td>...</td>\n",
       "      <td>...</td>\n",
       "      <td>...</td>\n",
       "      <td>...</td>\n",
       "    </tr>\n",
       "    <tr>\n",
       "      <th>2024-10-07</th>\n",
       "      <td>898.400024</td>\n",
       "      <td>117.769997</td>\n",
       "      <td>159.529999</td>\n",
       "      <td>29.200001</td>\n",
       "      <td>76.870003</td>\n",
       "      <td>5695.939941</td>\n",
       "    </tr>\n",
       "    <tr>\n",
       "      <th>2024-10-08</th>\n",
       "      <td>913.719971</td>\n",
       "      <td>117.199997</td>\n",
       "      <td>159.690002</td>\n",
       "      <td>29.180000</td>\n",
       "      <td>76.870003</td>\n",
       "      <td>5751.129883</td>\n",
       "    </tr>\n",
       "    <tr>\n",
       "      <th>2024-10-09</th>\n",
       "      <td>919.739990</td>\n",
       "      <td>117.000000</td>\n",
       "      <td>160.649994</td>\n",
       "      <td>30.190001</td>\n",
       "      <td>77.510002</td>\n",
       "      <td>5792.040039</td>\n",
       "    </tr>\n",
       "    <tr>\n",
       "      <th>2024-10-10</th>\n",
       "      <td>910.690002</td>\n",
       "      <td>117.529999</td>\n",
       "      <td>160.509995</td>\n",
       "      <td>29.340000</td>\n",
       "      <td>76.870003</td>\n",
       "      <td>5780.049805</td>\n",
       "    </tr>\n",
       "    <tr>\n",
       "      <th>2024-10-11</th>\n",
       "      <td>932.059998</td>\n",
       "      <td>120.040001</td>\n",
       "      <td>161.460007</td>\n",
       "      <td>29.160000</td>\n",
       "      <td>77.349998</td>\n",
       "      <td>5815.029785</td>\n",
       "    </tr>\n",
       "  </tbody>\n",
       "</table>\n",
       "<p>250 rows × 6 columns</p>\n",
       "</div>"
      ],
      "text/plain": [
       "                   LLY         NVO         JNJ        PFE        AZN  \\\n",
       "Date                                                                   \n",
       "2023-10-16  616.640015  101.150002  157.529999  33.270000  67.820000   \n",
       "2023-10-17  608.309998  101.160004  156.089996  32.750000  69.279999   \n",
       "2023-10-18  607.239990  100.570000  152.729996  31.410000  65.239998   \n",
       "2023-10-19  590.799988   97.660004  152.320007  31.190001  64.419998   \n",
       "2023-10-20  584.640015   96.290001  153.000000  30.650000  63.830002   \n",
       "...                ...         ...         ...        ...        ...   \n",
       "2024-10-07  898.400024  117.769997  159.529999  29.200001  76.870003   \n",
       "2024-10-08  913.719971  117.199997  159.690002  29.180000  76.870003   \n",
       "2024-10-09  919.739990  117.000000  160.649994  30.190001  77.510002   \n",
       "2024-10-10  910.690002  117.529999  160.509995  29.340000  76.870003   \n",
       "2024-10-11  932.059998  120.040001  161.460007  29.160000  77.349998   \n",
       "\n",
       "                  ^GSPC  \n",
       "Date                     \n",
       "2023-10-16  4373.629883  \n",
       "2023-10-17  4373.200195  \n",
       "2023-10-18  4314.600098  \n",
       "2023-10-19  4278.000000  \n",
       "2023-10-20  4224.160156  \n",
       "...                 ...  \n",
       "2024-10-07  5695.939941  \n",
       "2024-10-08  5751.129883  \n",
       "2024-10-09  5792.040039  \n",
       "2024-10-10  5780.049805  \n",
       "2024-10-11  5815.029785  \n",
       "\n",
       "[250 rows x 6 columns]"
      ]
     },
     "execution_count": 11,
     "metadata": {},
     "output_type": "execute_result"
    }
   ],
   "source": [
    "#Pharmaceutical sector.I choose the 5 biggest enterprises on the market \n",
    "#pct_change : calculates the percentage change in the values through a series\n",
    "\n",
    "\n",
    "tickers=['LLY','NVO','JNJ','PFE','AZN','^GSPC']\n",
    "def get_data(tickers,start,end):\n",
    "    lst= []\n",
    "    #end=dt.datetime.now()\n",
    "    #start=dt.date(end.year-1,end.mont,end.day)\n",
    "    for symbol in tickers:\n",
    "        ticker = yf.download(symbol, start,end)\n",
    "        \n",
    "        opt= ticker['Close']\n",
    "        lst.append(opt)\n",
    "        df= pd.DataFrame(lst)\n",
    "        df=df.transpose()\n",
    "    df.columns=tickers \n",
    "    return df\n",
    "\n",
    "    \n",
    "start='2023-10-14'\n",
    "end='2024-10-14'   \n",
    "df=get_data(tickers,start,end)\n",
    "df"
   ]
  },
  {
   "cell_type": "code",
   "execution_count": 12,
   "id": "1d660c30-dcef-41cd-bdd9-04931b71d0f1",
   "metadata": {},
   "outputs": [
    {
     "data": {
      "text/html": [
       "<div>\n",
       "<style scoped>\n",
       "    .dataframe tbody tr th:only-of-type {\n",
       "        vertical-align: middle;\n",
       "    }\n",
       "\n",
       "    .dataframe tbody tr th {\n",
       "        vertical-align: top;\n",
       "    }\n",
       "\n",
       "    .dataframe thead th {\n",
       "        text-align: right;\n",
       "    }\n",
       "</style>\n",
       "<table border=\"1\" class=\"dataframe\">\n",
       "  <thead>\n",
       "    <tr style=\"text-align: right;\">\n",
       "      <th></th>\n",
       "      <th>LLY</th>\n",
       "      <th>NVO</th>\n",
       "      <th>JNJ</th>\n",
       "      <th>PFE</th>\n",
       "      <th>AZN</th>\n",
       "      <th>^GSPC</th>\n",
       "    </tr>\n",
       "  </thead>\n",
       "  <tbody>\n",
       "    <tr>\n",
       "      <th>LLY</th>\n",
       "      <td>0.000353</td>\n",
       "      <td>0.000224</td>\n",
       "      <td>-0.000011</td>\n",
       "      <td>-0.000011</td>\n",
       "      <td>0.000036</td>\n",
       "      <td>0.000055</td>\n",
       "    </tr>\n",
       "    <tr>\n",
       "      <th>NVO</th>\n",
       "      <td>0.000224</td>\n",
       "      <td>0.000375</td>\n",
       "      <td>-0.000006</td>\n",
       "      <td>-0.000002</td>\n",
       "      <td>0.000051</td>\n",
       "      <td>0.000055</td>\n",
       "    </tr>\n",
       "    <tr>\n",
       "      <th>JNJ</th>\n",
       "      <td>-0.000011</td>\n",
       "      <td>-0.000006</td>\n",
       "      <td>0.000094</td>\n",
       "      <td>0.000069</td>\n",
       "      <td>0.000036</td>\n",
       "      <td>0.000004</td>\n",
       "    </tr>\n",
       "    <tr>\n",
       "      <th>PFE</th>\n",
       "      <td>-0.000011</td>\n",
       "      <td>-0.000002</td>\n",
       "      <td>0.000069</td>\n",
       "      <td>0.000249</td>\n",
       "      <td>0.000026</td>\n",
       "      <td>0.000015</td>\n",
       "    </tr>\n",
       "    <tr>\n",
       "      <th>AZN</th>\n",
       "      <td>0.000036</td>\n",
       "      <td>0.000051</td>\n",
       "      <td>0.000036</td>\n",
       "      <td>0.000026</td>\n",
       "      <td>0.000155</td>\n",
       "      <td>0.000020</td>\n",
       "    </tr>\n",
       "    <tr>\n",
       "      <th>^GSPC</th>\n",
       "      <td>0.000055</td>\n",
       "      <td>0.000055</td>\n",
       "      <td>0.000004</td>\n",
       "      <td>0.000015</td>\n",
       "      <td>0.000020</td>\n",
       "      <td>0.000062</td>\n",
       "    </tr>\n",
       "  </tbody>\n",
       "</table>\n",
       "</div>"
      ],
      "text/plain": [
       "            LLY       NVO       JNJ       PFE       AZN     ^GSPC\n",
       "LLY    0.000353  0.000224 -0.000011 -0.000011  0.000036  0.000055\n",
       "NVO    0.000224  0.000375 -0.000006 -0.000002  0.000051  0.000055\n",
       "JNJ   -0.000011 -0.000006  0.000094  0.000069  0.000036  0.000004\n",
       "PFE   -0.000011 -0.000002  0.000069  0.000249  0.000026  0.000015\n",
       "AZN    0.000036  0.000051  0.000036  0.000026  0.000155  0.000020\n",
       "^GSPC  0.000055  0.000055  0.000004  0.000015  0.000020  0.000062"
      ]
     },
     "execution_count": 12,
     "metadata": {},
     "output_type": "execute_result"
    }
   ],
   "source": [
    "# building variance covariance matrix \n",
    "df=df.pct_change()\n",
    "df.cov()"
   ]
  },
  {
   "cell_type": "code",
   "execution_count": 13,
   "id": "6b16d93f-24b0-408c-8d05-76d55b6472c4",
   "metadata": {},
   "outputs": [
    {
     "data": {
      "text/plain": [
       "LLY      0.000353\n",
       "NVO      0.000375\n",
       "JNJ      0.000094\n",
       "PFE      0.000249\n",
       "AZN      0.000155\n",
       "^GSPC    0.000062\n",
       "dtype: float64"
      ]
     },
     "execution_count": 13,
     "metadata": {},
     "output_type": "execute_result"
    }
   ],
   "source": [
    "df.var()"
   ]
  },
  {
   "cell_type": "code",
   "execution_count": 14,
   "id": "13da5e42-5448-4ec4-8507-126b4828bf24",
   "metadata": {
    "scrolled": true
   },
   "outputs": [
    {
     "data": {
      "text/html": [
       "<div>\n",
       "<style scoped>\n",
       "    .dataframe tbody tr th:only-of-type {\n",
       "        vertical-align: middle;\n",
       "    }\n",
       "\n",
       "    .dataframe tbody tr th {\n",
       "        vertical-align: top;\n",
       "    }\n",
       "\n",
       "    .dataframe thead th {\n",
       "        text-align: right;\n",
       "    }\n",
       "</style>\n",
       "<table border=\"1\" class=\"dataframe\">\n",
       "  <thead>\n",
       "    <tr style=\"text-align: right;\">\n",
       "      <th></th>\n",
       "      <th>LLY</th>\n",
       "      <th>NVO</th>\n",
       "      <th>JNJ</th>\n",
       "      <th>PFE</th>\n",
       "      <th>AZN</th>\n",
       "      <th>^GSPC</th>\n",
       "    </tr>\n",
       "  </thead>\n",
       "  <tbody>\n",
       "    <tr>\n",
       "      <th>LLY</th>\n",
       "      <td>1.000000</td>\n",
       "      <td>0.614644</td>\n",
       "      <td>-0.061669</td>\n",
       "      <td>-0.035547</td>\n",
       "      <td>0.154872</td>\n",
       "      <td>0.372398</td>\n",
       "    </tr>\n",
       "    <tr>\n",
       "      <th>NVO</th>\n",
       "      <td>0.614644</td>\n",
       "      <td>1.000000</td>\n",
       "      <td>-0.032313</td>\n",
       "      <td>-0.005521</td>\n",
       "      <td>0.212290</td>\n",
       "      <td>0.358798</td>\n",
       "    </tr>\n",
       "    <tr>\n",
       "      <th>JNJ</th>\n",
       "      <td>-0.061669</td>\n",
       "      <td>-0.032313</td>\n",
       "      <td>1.000000</td>\n",
       "      <td>0.452069</td>\n",
       "      <td>0.300642</td>\n",
       "      <td>0.057688</td>\n",
       "    </tr>\n",
       "    <tr>\n",
       "      <th>PFE</th>\n",
       "      <td>-0.035547</td>\n",
       "      <td>-0.005521</td>\n",
       "      <td>0.452069</td>\n",
       "      <td>1.000000</td>\n",
       "      <td>0.133356</td>\n",
       "      <td>0.118706</td>\n",
       "    </tr>\n",
       "    <tr>\n",
       "      <th>AZN</th>\n",
       "      <td>0.154872</td>\n",
       "      <td>0.212290</td>\n",
       "      <td>0.300642</td>\n",
       "      <td>0.133356</td>\n",
       "      <td>1.000000</td>\n",
       "      <td>0.199025</td>\n",
       "    </tr>\n",
       "    <tr>\n",
       "      <th>^GSPC</th>\n",
       "      <td>0.372398</td>\n",
       "      <td>0.358798</td>\n",
       "      <td>0.057688</td>\n",
       "      <td>0.118706</td>\n",
       "      <td>0.199025</td>\n",
       "      <td>1.000000</td>\n",
       "    </tr>\n",
       "  </tbody>\n",
       "</table>\n",
       "</div>"
      ],
      "text/plain": [
       "            LLY       NVO       JNJ       PFE       AZN     ^GSPC\n",
       "LLY    1.000000  0.614644 -0.061669 -0.035547  0.154872  0.372398\n",
       "NVO    0.614644  1.000000 -0.032313 -0.005521  0.212290  0.358798\n",
       "JNJ   -0.061669 -0.032313  1.000000  0.452069  0.300642  0.057688\n",
       "PFE   -0.035547 -0.005521  0.452069  1.000000  0.133356  0.118706\n",
       "AZN    0.154872  0.212290  0.300642  0.133356  1.000000  0.199025\n",
       "^GSPC  0.372398  0.358798  0.057688  0.118706  0.199025  1.000000"
      ]
     },
     "execution_count": 14,
     "metadata": {},
     "output_type": "execute_result"
    }
   ],
   "source": [
    "df.corr()"
   ]
  },
  {
   "cell_type": "code",
   "execution_count": 15,
   "id": "a1f252be-16dd-45db-9e30-58189263b187",
   "metadata": {},
   "outputs": [
    {
     "data": {
      "text/plain": [
       "LLY      0.001835\n",
       "NVO      0.000874\n",
       "JNJ      0.000146\n",
       "PFE     -0.000405\n",
       "AZN      0.000606\n",
       "^GSPC    0.001176\n",
       "dtype: float64"
      ]
     },
     "execution_count": 15,
     "metadata": {},
     "output_type": "execute_result"
    }
   ],
   "source": [
    "df.mean()"
   ]
  },
  {
   "cell_type": "markdown",
   "id": "be4d051c-3ce5-4e0f-9290-1dc360b2439a",
   "metadata": {},
   "source": [
    "So we have a little bit overview and introduction here. \n",
    "<br> Moving to the following section, we will talk about the beta, alpha metrics and the CAPM model \n"
   ]
  },
  {
   "cell_type": "markdown",
   "id": "44ae3770-1fce-4e8a-878f-e9f72bcf7264",
   "metadata": {},
   "source": [
    "### 3. Risky-Assets-Portfolios\n",
    "These are the 3 main properties of two risky assets portfolios\n",
    "<br><b>1.</b> The rate of return on a portfolio of 2 assets is the weighted average of returns on the component securities, with the investment proportions as weights\n",
    "<p style=\"text-align: center;\">\n",
    "    $r_p= w_b r_b+ w_s b_s$\n",
    "          </p>\n",
    "$w_i$ is basically the investing proportion for the one specific asset, it means how much you willing to spend comparing to the amount that you spend on a specific portfolio, in another word $w_i= \\frac{amountspendingoni}{totalamountspending}$\n",
    "<br>$r_i$ is the average rate of returns for each asset \n",
    "<br><b>2.</b> The expected rate of return on a portfolio is the weighted average of the expected returns on the component securities, with the portfolio proportions as weights.\n",
    "<p style=\"text-align: center;\">\n",
    "    $E(r_p)= w_b E(r_b) + w_s E(r_s)$\n",
    "          </p>\n",
    "<br><b>3.</b>The variance of the rate of return on a two-risky-asset portfolio is\n",
    "<p style=\"text-align: center;\">\n",
    "    $\\sigma (b+s)=(w_b \\sigma_b)^2 + (w_s \\sigma_s)^2 + 2(w_b \\sigma_b)^2 (w_s \\sigma_s)^2 \\rho_{bs}$\n",
    "          </p>\n",
    "\n",
    "So basically these 3 rules are simple probability rules with linearity's properties."
   ]
  },
  {
   "cell_type": "markdown",
   "id": "04970058-581b-4379-8d6c-2ce49ae9611a",
   "metadata": {},
   "source": [
    "---! After reading several different sources of information to gain a better understading about this model, I realize it's simply just statistical learning and a touch of optimization, so if you have a sufficient base in probability and statistics, you already got 80% of this model ---"
   ]
  },
  {
   "cell_type": "markdown",
   "id": "b17d3fec-e67e-4749-bedb-efddea43ac8d",
   "metadata": {},
   "source": [
    "### 4. Capital Asset Pricing Model"
   ]
  },
  {
   "cell_type": "markdown",
   "id": "81aeccac-9cf7-4dd7-9698-9deb3b1b929f",
   "metadata": {},
   "source": [
    "<b>Sharpe Ratio</b>: measures the performance of a security compared to a risk-free asset, after adjusting for its risk. This is the excess return($r_i$) per unit of risk of an investment :\n",
    "<p style=\"text-align: center;\">\n",
    "    $Sharpe = \\frac{Risk premium }{\\sigma}=\\frac{\\bar{r} -r_f}{\\sigma_i}$\n",
    "          </p>\n",
    "<br>When Sharpe > 1, GOOD risk-adjusted returns\n",
    "<br>When Sharpe > 2, VERY GOOD risk-adjusted returns\n",
    "<br>When Sharpe > 3, EXCELLENT risk-adjusted returns"
   ]
  },
  {
   "cell_type": "markdown",
   "id": "52088743-adea-4e19-9268-036d5aa42820",
   "metadata": {},
   "source": [
    "<b>Beta</b>: This is an very efficient risk measurement when it comes to the non-systematic risk. <b>Beta</b> measures the ratio of the stock and the market portfolio. In the other words, it is a measure of how much risk the investment will add to a portfolio that looks like the market :\n",
    "<p style=\"text-align: center;\">\n",
    "    $\\beta= \\frac{\\sigma_{i,m}}{\\sigma_{m}^2}$\n",
    "          </p>\n",
    "<br>When beta = 0, it means that there's no relationship.\n",
    "<br>When beta < 1, it means that the stock is defensive (less prone to high highs and lows)\n",
    "<br>When beta > 1, it means that the stock is aggresive (more prone to high highs and lows)"
   ]
  },
  {
   "cell_type": "markdown",
   "id": "4647e899-51fe-4d3d-a569-ca4e83b911b1",
   "metadata": {},
   "source": [
    "<b>CAPM</b> : provides a precise prediction of the relationship we should observe between the risk of an asset and its expected return. It gives us a benchmark rate of return for evaluating possible investments and helps us make an educated guess as to the expected return on assets that have not yet been traded in the marketplace\n",
    "<br>\n",
    "This model is used in the context where we assume (i) Markets for securities are perfectly competitive and equally profitable to all investors and (ii) Investors choose investment portfolios in the same manner\n",
    "<br>\n",
    "<b>Expected Return CAPM</b>: calculates the expected return of a security adjusted to the risk taken. This equates to the return expected from taking the extra risk of purchasing this security.\n",
    "<p style=\"text-align: center;\">\n",
    "    $\\bar{r_i}=r_f+\\beta_i(\\bar{r_m} -r_f)$\n",
    "          </p>\n",
    "$\\bar{r_i}= E(r_i)$: Expected return of a security $i$\n",
    "<br>$\\bar{r_m}=E(r_m)$: Expected market return \n",
    "\n",
    " \n",
    " \n"
   ]
  },
  {
   "cell_type": "code",
   "execution_count": 35,
   "id": "d6c6e5d7-ed58-4b89-be43-fabe46c94e99",
   "metadata": {},
   "outputs": [
    {
     "data": {
      "text/plain": [
       "LLY    0.000055\n",
       "NVO    0.000055\n",
       "JNJ    0.000004\n",
       "PFE    0.000015\n",
       "AZN    0.000020\n",
       "Name: cov_i, dtype: float64"
      ]
     },
     "execution_count": 35,
     "metadata": {},
     "output_type": "execute_result"
    }
   ],
   "source": [
    "# Calculate the covariance of each asset with the market \n",
    "cov_i= df.cov()\n",
    "cov_i=cov_i['^GSPC']\n",
    "cov_i=cov_i.drop(cov_i.index[-1])\n",
    "cov_i.rename('cov_i')"
   ]
  },
  {
   "cell_type": "code",
   "execution_count": 53,
   "id": "aeb5212a-5781-4cc4-8825-722d9adfb71a",
   "metadata": {},
   "outputs": [
    {
     "data": {
      "text/plain": [
       "LLY    0.018776\n",
       "NVO    0.019376\n",
       "JNJ    0.009701\n",
       "PFE    0.015772\n",
       "AZN    0.012446\n",
       "dtype: float64"
      ]
     },
     "execution_count": 53,
     "metadata": {},
     "output_type": "execute_result"
    }
   ],
   "source": [
    "# Calculate the std of each asset with the market \n",
    "std_i= df.std()\n",
    "std_i=std_i.drop(std_i.index[-1])\n",
    "std_i"
   ]
  },
  {
   "cell_type": "code",
   "execution_count": 40,
   "id": "60ae31bc-fee9-4bcd-97e7-7f6559936c56",
   "metadata": {},
   "outputs": [
    {
     "data": {
      "text/plain": [
       "6.217133957039135e-05"
      ]
     },
     "execution_count": 40,
     "metadata": {},
     "output_type": "execute_result"
    }
   ],
   "source": [
    "# Calculate the variance of the market return\n",
    "var_market=df['^GSPC'].var()\n",
    "var_market"
   ]
  },
  {
   "cell_type": "code",
   "execution_count": 42,
   "id": "c36e5d0d-07bb-42fb-bc52-0cbab9ca60e9",
   "metadata": {},
   "outputs": [
    {
     "data": {
      "text/plain": [
       "LLY    0.886759\n",
       "NVO    0.881686\n",
       "JNJ    0.070975\n",
       "PFE    0.237450\n",
       "AZN    0.314157\n",
       "Name: ^GSPC, dtype: float64"
      ]
     },
     "execution_count": 42,
     "metadata": {},
     "output_type": "execute_result"
    }
   ],
   "source": [
    "#beta\n",
    "beta= cov_i/var_market\n",
    "beta"
   ]
  },
  {
   "cell_type": "code",
   "execution_count": 46,
   "id": "e39ca0c7-4b1d-4fbf-9f92-469114caf623",
   "metadata": {},
   "outputs": [
    {
     "data": {
      "text/plain": [
       "LLY    0.006286\n",
       "NVO    0.006514\n",
       "JNJ    0.043097\n",
       "PFE    0.035585\n",
       "AZN    0.032124\n",
       "Name: CAPM, dtype: float64"
      ]
     },
     "execution_count": 46,
     "metadata": {},
     "output_type": "execute_result"
    }
   ],
   "source": [
    "#Rate free 19/10/2024 in the US market: 4.63%\n",
    "riskfree= 0.0463\n",
    "riskpremium=(df['^GSPC'].mean())-riskfree\n",
    "# By applying the formula\n",
    "capm=riskfree+beta*riskpremium\n",
    "capm.rename(\"CAPM\")"
   ]
  },
  {
   "cell_type": "code",
   "execution_count": 55,
   "id": "392f52a6-0dfd-41ed-846c-87ac048cfedd",
   "metadata": {},
   "outputs": [
    {
     "data": {
      "text/plain": [
       "LLY    0.334774\n",
       "NVO    0.336218\n",
       "JNJ    4.442571\n",
       "PFE    2.256193\n",
       "AZN    2.581037\n",
       "Name: Sharpe, dtype: float64"
      ]
     },
     "execution_count": 55,
     "metadata": {},
     "output_type": "execute_result"
    }
   ],
   "source": [
    "# Now we calculate the Sharpe\n",
    "sharpe= capm/std_i\n",
    "sharpe.rename('Sharpe')"
   ]
  },
  {
   "cell_type": "code",
   "execution_count": 12,
   "id": "6fb9813e-3f35-4669-9f91-c0b8449a347f",
   "metadata": {},
   "outputs": [],
   "source": [
    "# so now I will test some function \n",
    "class get_data():\n",
    "    def __init__(self,tickers, market,start_date,end_date):\n",
    "        self.tickers=tickers\n",
    "        self.market=market\n",
    "        self.start_date=start_date\n",
    "        self.end_date=end_date\n",
    "    def get_data_ticker(self):\n",
    "        df=pd.DataFrame()\n",
    "        for i in self.tickers:\n",
    "            df[i]=yf.download(i,self.start_date,self.end_date)['Close']\n",
    "        df=df.pct_change()\n",
    "        return df\n",
    "    def get_data_market(self):\n",
    "        #market=yf.download(self.market,self.start_date,self.end_date)['Close']\n",
    "        df=pd.DataFrame()\n",
    "        for i in self.market:\n",
    "            df[i]= yf.download(self.market,self.start_date,self.end_date)['Close']\n",
    "        df=df.pct_change()\n",
    "        return df\n",
    "    "
   ]
  },
  {
   "cell_type": "code",
   "execution_count": 327,
   "id": "b7ab93db-c8f9-438d-9811-55a2f7c3853f",
   "metadata": {
    "scrolled": true
   },
   "outputs": [
    {
     "name": "stderr",
     "output_type": "stream",
     "text": [
      "C:\\Users\\famcha\\AppData\\Local\\Programs\\Python\\Python312\\Lib\\site-packages\\yfinance\\utils.py:775: FutureWarning: The 'unit' keyword in TimedeltaIndex construction is deprecated and will be removed in a future version. Use pd.to_timedelta instead.\n",
      "  df.index += _pd.TimedeltaIndex(dst_error_hours, 'h')\n",
      "[*********************100%%**********************]  1 of 1 completed\n",
      "C:\\Users\\famcha\\AppData\\Local\\Programs\\Python\\Python312\\Lib\\site-packages\\yfinance\\utils.py:775: FutureWarning: The 'unit' keyword in TimedeltaIndex construction is deprecated and will be removed in a future version. Use pd.to_timedelta instead.\n",
      "  df.index += _pd.TimedeltaIndex(dst_error_hours, 'h')\n",
      "[*********************100%%**********************]  1 of 1 completed\n",
      "C:\\Users\\famcha\\AppData\\Local\\Programs\\Python\\Python312\\Lib\\site-packages\\yfinance\\utils.py:775: FutureWarning: The 'unit' keyword in TimedeltaIndex construction is deprecated and will be removed in a future version. Use pd.to_timedelta instead.\n",
      "  df.index += _pd.TimedeltaIndex(dst_error_hours, 'h')\n",
      "[*********************100%%**********************]  1 of 1 completed\n",
      "C:\\Users\\famcha\\AppData\\Local\\Programs\\Python\\Python312\\Lib\\site-packages\\yfinance\\utils.py:775: FutureWarning: The 'unit' keyword in TimedeltaIndex construction is deprecated and will be removed in a future version. Use pd.to_timedelta instead.\n",
      "  df.index += _pd.TimedeltaIndex(dst_error_hours, 'h')\n",
      "[*********************100%%**********************]  1 of 1 completed\n",
      "C:\\Users\\famcha\\AppData\\Local\\Programs\\Python\\Python312\\Lib\\site-packages\\yfinance\\utils.py:775: FutureWarning: The 'unit' keyword in TimedeltaIndex construction is deprecated and will be removed in a future version. Use pd.to_timedelta instead.\n",
      "  df.index += _pd.TimedeltaIndex(dst_error_hours, 'h')\n",
      "[*********************100%%**********************]  1 of 1 completed\n",
      "C:\\Users\\famcha\\AppData\\Local\\Programs\\Python\\Python312\\Lib\\site-packages\\yfinance\\utils.py:775: FutureWarning: The 'unit' keyword in TimedeltaIndex construction is deprecated and will be removed in a future version. Use pd.to_timedelta instead.\n",
      "  df.index += _pd.TimedeltaIndex(dst_error_hours, 'h')\n",
      "[*********************100%%**********************]  1 of 1 completed\n"
     ]
    },
    {
     "data": {
      "text/html": [
       "<div>\n",
       "<style scoped>\n",
       "    .dataframe tbody tr th:only-of-type {\n",
       "        vertical-align: middle;\n",
       "    }\n",
       "\n",
       "    .dataframe tbody tr th {\n",
       "        vertical-align: top;\n",
       "    }\n",
       "\n",
       "    .dataframe thead th {\n",
       "        text-align: right;\n",
       "    }\n",
       "</style>\n",
       "<table border=\"1\" class=\"dataframe\">\n",
       "  <thead>\n",
       "    <tr style=\"text-align: right;\">\n",
       "      <th></th>\n",
       "      <th>^GSPC</th>\n",
       "    </tr>\n",
       "    <tr>\n",
       "      <th>Date</th>\n",
       "      <th></th>\n",
       "    </tr>\n",
       "  </thead>\n",
       "  <tbody>\n",
       "    <tr>\n",
       "      <th>2023-10-17</th>\n",
       "      <td>-0.000098</td>\n",
       "    </tr>\n",
       "    <tr>\n",
       "      <th>2023-10-18</th>\n",
       "      <td>-0.013400</td>\n",
       "    </tr>\n",
       "    <tr>\n",
       "      <th>2023-10-19</th>\n",
       "      <td>-0.008483</td>\n",
       "    </tr>\n",
       "    <tr>\n",
       "      <th>2023-10-20</th>\n",
       "      <td>-0.012585</td>\n",
       "    </tr>\n",
       "    <tr>\n",
       "      <th>2023-10-23</th>\n",
       "      <td>-0.001686</td>\n",
       "    </tr>\n",
       "    <tr>\n",
       "      <th>...</th>\n",
       "      <td>...</td>\n",
       "    </tr>\n",
       "    <tr>\n",
       "      <th>2024-10-07</th>\n",
       "      <td>-0.009586</td>\n",
       "    </tr>\n",
       "    <tr>\n",
       "      <th>2024-10-08</th>\n",
       "      <td>0.009689</td>\n",
       "    </tr>\n",
       "    <tr>\n",
       "      <th>2024-10-09</th>\n",
       "      <td>0.007113</td>\n",
       "    </tr>\n",
       "    <tr>\n",
       "      <th>2024-10-10</th>\n",
       "      <td>-0.002070</td>\n",
       "    </tr>\n",
       "    <tr>\n",
       "      <th>2024-10-11</th>\n",
       "      <td>0.006052</td>\n",
       "    </tr>\n",
       "  </tbody>\n",
       "</table>\n",
       "<p>249 rows × 1 columns</p>\n",
       "</div>"
      ],
      "text/plain": [
       "               ^GSPC\n",
       "Date                \n",
       "2023-10-17 -0.000098\n",
       "2023-10-18 -0.013400\n",
       "2023-10-19 -0.008483\n",
       "2023-10-20 -0.012585\n",
       "2023-10-23 -0.001686\n",
       "...              ...\n",
       "2024-10-07 -0.009586\n",
       "2024-10-08  0.009689\n",
       "2024-10-09  0.007113\n",
       "2024-10-10 -0.002070\n",
       "2024-10-11  0.006052\n",
       "\n",
       "[249 rows x 1 columns]"
      ]
     },
     "execution_count": 327,
     "metadata": {},
     "output_type": "execute_result"
    }
   ],
   "source": [
    "start='2023-10-14'\n",
    "end='2024-10-14'\n",
    "tickers=['LLY','NVO','JNJ','PFE','AZN']\n",
    "market=[\"^GSPC\"]\n",
    "a= get_data(tickers, market,start,end)\n",
    "tc=a.get_data_ticker()\n",
    "mr=a.get_data_market()\n",
    "tc = tc.dropna(how='all')\n",
    "mr=mr.dropna(how='all')\n",
    "mr\n"
   ]
  },
  {
   "cell_type": "code",
   "execution_count": 182,
   "id": "b6649e09-1e84-491c-b7a1-6540536bc85a",
   "metadata": {},
   "outputs": [
    {
     "data": {
      "text/html": [
       "<div>\n",
       "<style scoped>\n",
       "    .dataframe tbody tr th:only-of-type {\n",
       "        vertical-align: middle;\n",
       "    }\n",
       "\n",
       "    .dataframe tbody tr th {\n",
       "        vertical-align: top;\n",
       "    }\n",
       "\n",
       "    .dataframe thead th {\n",
       "        text-align: right;\n",
       "    }\n",
       "</style>\n",
       "<table border=\"1\" class=\"dataframe\">\n",
       "  <thead>\n",
       "    <tr style=\"text-align: right;\">\n",
       "      <th></th>\n",
       "      <th>Close</th>\n",
       "    </tr>\n",
       "  </thead>\n",
       "  <tbody>\n",
       "    <tr>\n",
       "      <th>LLY</th>\n",
       "      <td>0.000055</td>\n",
       "    </tr>\n",
       "    <tr>\n",
       "      <th>NVO</th>\n",
       "      <td>0.000055</td>\n",
       "    </tr>\n",
       "    <tr>\n",
       "      <th>JNJ</th>\n",
       "      <td>0.000004</td>\n",
       "    </tr>\n",
       "    <tr>\n",
       "      <th>PFE</th>\n",
       "      <td>0.000015</td>\n",
       "    </tr>\n",
       "    <tr>\n",
       "      <th>AZN</th>\n",
       "      <td>0.000020</td>\n",
       "    </tr>\n",
       "    <tr>\n",
       "      <th>Close</th>\n",
       "      <td>0.000062</td>\n",
       "    </tr>\n",
       "  </tbody>\n",
       "</table>\n",
       "</div>"
      ],
      "text/plain": [
       "          Close\n",
       "LLY    0.000055\n",
       "NVO    0.000055\n",
       "JNJ    0.000004\n",
       "PFE    0.000015\n",
       "AZN    0.000020\n",
       "Close  0.000062"
      ]
     },
     "execution_count": 182,
     "metadata": {},
     "output_type": "execute_result"
    }
   ],
   "source": [
    "bis=pd.concat([tc,mr], axis=1, join=\"inner\")\n",
    "bis=bis.cov()\n",
    "\n",
    "bis=bis.take([-1], axis=1)\n",
    "bis\n",
    "#cov_i=cov_i.drop(cov_i.index[-1])"
   ]
  },
  {
   "cell_type": "code",
   "execution_count": 13,
   "id": "47219bb4-9466-403a-818a-d915327d5f97",
   "metadata": {},
   "outputs": [],
   "source": [
    "class capm():\n",
    "    def __init__(self,tickers,market,start,end,riskfree):\n",
    "        self.tickers=tickers\n",
    "        self.market=market\n",
    "        self.start=start\n",
    "        self.end=end\n",
    "        self.riskfree=riskfree\n",
    "        a=get_data(tickers,market,start,end)\n",
    "        self.df_mrk=a.get_data_market()\n",
    "        self.df_tck=a.get_data_ticker()\n",
    "    def beta(self):\n",
    "        mrk_var= self.df_mrk.var()\n",
    "        cov_bis= pd.concat([self.df_mrk,self.df_tck],axis=1,join='inner') #concat 2 df to calculate the covariance of each tickers with the marker\n",
    "        cov_bis=cov_bis.cov()\n",
    "        cov=cov_bis.take([0],axis=1)\n",
    "        cov= cov.drop(cov.index[0])\n",
    "        beta= cov/mrk_var\n",
    "        return beta\n",
    "    def capm(self):\n",
    "        riskpre=self.df_mrk.mean() - self.riskfree\n",
    "        beta=self.beta()\n",
    "        beta_bis= beta.multiply(riskpre)\n",
    "        capm= self.riskfree+beta_bis\n",
    "        return capm \n",
    "    def sharpe(self):\n",
    "        bis= self.capm() - self.riskfree\n",
    "        tck_std= self.df_tck.std()\n",
    "        tck_std=pd.DataFrame(tck_std)\n",
    "        df=pd.concat([bis,tck_std],axis=1,join='inner',ignore_index=True)\n",
    "        re=pd.DataFrame( df[0]/df[1])\n",
    "        return re\n"
   ]
  },
  {
   "cell_type": "code",
   "execution_count": 14,
   "id": "9561a96b-89d8-47f3-981f-a459e2b872d0",
   "metadata": {},
   "outputs": [
    {
     "name": "stderr",
     "output_type": "stream",
     "text": [
      "C:\\Users\\famcha\\AppData\\Local\\Programs\\Python\\Python312\\Lib\\site-packages\\yfinance\\utils.py:775: FutureWarning: The 'unit' keyword in TimedeltaIndex construction is deprecated and will be removed in a future version. Use pd.to_timedelta instead.\n",
      "  df.index += _pd.TimedeltaIndex(dst_error_hours, 'h')\n",
      "[*********************100%%**********************]  1 of 1 completed\n",
      "C:\\Users\\famcha\\AppData\\Local\\Programs\\Python\\Python312\\Lib\\site-packages\\yfinance\\utils.py:775: FutureWarning: The 'unit' keyword in TimedeltaIndex construction is deprecated and will be removed in a future version. Use pd.to_timedelta instead.\n",
      "  df.index += _pd.TimedeltaIndex(dst_error_hours, 'h')\n",
      "[*********************100%%**********************]  1 of 1 completed\n",
      "C:\\Users\\famcha\\AppData\\Local\\Programs\\Python\\Python312\\Lib\\site-packages\\yfinance\\utils.py:775: FutureWarning: The 'unit' keyword in TimedeltaIndex construction is deprecated and will be removed in a future version. Use pd.to_timedelta instead.\n",
      "  df.index += _pd.TimedeltaIndex(dst_error_hours, 'h')\n",
      "[*********************100%%**********************]  1 of 1 completed\n",
      "C:\\Users\\famcha\\AppData\\Local\\Programs\\Python\\Python312\\Lib\\site-packages\\yfinance\\utils.py:775: FutureWarning: The 'unit' keyword in TimedeltaIndex construction is deprecated and will be removed in a future version. Use pd.to_timedelta instead.\n",
      "  df.index += _pd.TimedeltaIndex(dst_error_hours, 'h')\n",
      "[*********************100%%**********************]  1 of 1 completed\n",
      "C:\\Users\\famcha\\AppData\\Local\\Programs\\Python\\Python312\\Lib\\site-packages\\yfinance\\utils.py:775: FutureWarning: The 'unit' keyword in TimedeltaIndex construction is deprecated and will be removed in a future version. Use pd.to_timedelta instead.\n",
      "  df.index += _pd.TimedeltaIndex(dst_error_hours, 'h')\n",
      "[*********************100%%**********************]  1 of 1 completed\n",
      "C:\\Users\\famcha\\AppData\\Local\\Programs\\Python\\Python312\\Lib\\site-packages\\yfinance\\utils.py:775: FutureWarning: The 'unit' keyword in TimedeltaIndex construction is deprecated and will be removed in a future version. Use pd.to_timedelta instead.\n",
      "  df.index += _pd.TimedeltaIndex(dst_error_hours, 'h')\n",
      "[*********************100%%**********************]  1 of 1 completed\n"
     ]
    },
    {
     "data": {
      "text/html": [
       "<div>\n",
       "<style scoped>\n",
       "    .dataframe tbody tr th:only-of-type {\n",
       "        vertical-align: middle;\n",
       "    }\n",
       "\n",
       "    .dataframe tbody tr th {\n",
       "        vertical-align: top;\n",
       "    }\n",
       "\n",
       "    .dataframe thead th {\n",
       "        text-align: right;\n",
       "    }\n",
       "</style>\n",
       "<table border=\"1\" class=\"dataframe\">\n",
       "  <thead>\n",
       "    <tr style=\"text-align: right;\">\n",
       "      <th></th>\n",
       "      <th>0</th>\n",
       "    </tr>\n",
       "  </thead>\n",
       "  <tbody>\n",
       "    <tr>\n",
       "      <th>LLY</th>\n",
       "      <td>-1.125210</td>\n",
       "    </tr>\n",
       "    <tr>\n",
       "      <th>NVO</th>\n",
       "      <td>-1.084118</td>\n",
       "    </tr>\n",
       "    <tr>\n",
       "      <th>JNJ</th>\n",
       "      <td>-0.174305</td>\n",
       "    </tr>\n",
       "    <tr>\n",
       "      <th>PFE</th>\n",
       "      <td>-0.358673</td>\n",
       "    </tr>\n",
       "    <tr>\n",
       "      <th>AZN</th>\n",
       "      <td>-0.601359</td>\n",
       "    </tr>\n",
       "  </tbody>\n",
       "</table>\n",
       "</div>"
      ],
      "text/plain": [
       "            0\n",
       "LLY -1.125210\n",
       "NVO -1.084118\n",
       "JNJ -0.174305\n",
       "PFE -0.358673\n",
       "AZN -0.601359"
      ]
     },
     "execution_count": 14,
     "metadata": {},
     "output_type": "execute_result"
    }
   ],
   "source": [
    "\n",
    "start='2023-10-14'\n",
    "end='2024-10-14'\n",
    "tickers=['LLY','NVO','JNJ','PFE','AZN']\n",
    "market=[\"^GSPC\"]\n",
    "b=capm(tickers, market,start,end,0.025)\n",
    "capm_test=b.capm()\n",
    "capm_test\n",
    "sharpe=b.sharpe()\n",
    "sharpe"
   ]
  },
  {
   "cell_type": "markdown",
   "id": "797eebdb-8ed3-479a-91bf-994a65e406c6",
   "metadata": {},
   "source": [
    "Try this with some companies in the energy sector\n"
   ]
  },
  {
   "cell_type": "code",
   "execution_count": 1,
   "id": "682dbe22-c3b8-47c8-a1d4-cf31a8f2e598",
   "metadata": {},
   "outputs": [],
   "source": [
    "import capm\n",
    "from capm import get_data, capm"
   ]
  },
  {
   "cell_type": "code",
   "execution_count": 2,
   "id": "27b143ba-2af7-4f12-9a4a-bdfd8a260991",
   "metadata": {},
   "outputs": [],
   "source": [
    "start='2023-10-14'\n",
    "end='2024-10-14'\n",
    "tickers=['HES','FANG','PSX','OKE','COP','CVX']\n",
    "market=[\"^GSPC\"]"
   ]
  },
  {
   "cell_type": "code",
   "execution_count": 3,
   "id": "124742dc-a2f3-4cf4-80a6-d89032fec058",
   "metadata": {},
   "outputs": [
    {
     "name": "stderr",
     "output_type": "stream",
     "text": [
      "C:\\Users\\famcha\\AppData\\Local\\Programs\\Python\\Python312\\Lib\\site-packages\\yfinance\\utils.py:775: FutureWarning: The 'unit' keyword in TimedeltaIndex construction is deprecated and will be removed in a future version. Use pd.to_timedelta instead.\n",
      "  df.index += _pd.TimedeltaIndex(dst_error_hours, 'h')\n",
      "[*********************100%%**********************]  1 of 1 completed\n",
      "C:\\Users\\famcha\\AppData\\Local\\Programs\\Python\\Python312\\Lib\\site-packages\\yfinance\\utils.py:775: FutureWarning: The 'unit' keyword in TimedeltaIndex construction is deprecated and will be removed in a future version. Use pd.to_timedelta instead.\n",
      "  df.index += _pd.TimedeltaIndex(dst_error_hours, 'h')\n",
      "[*********************100%%**********************]  1 of 1 completed\n",
      "C:\\Users\\famcha\\AppData\\Local\\Programs\\Python\\Python312\\Lib\\site-packages\\yfinance\\utils.py:775: FutureWarning: The 'unit' keyword in TimedeltaIndex construction is deprecated and will be removed in a future version. Use pd.to_timedelta instead.\n",
      "  df.index += _pd.TimedeltaIndex(dst_error_hours, 'h')\n",
      "[*********************100%%**********************]  1 of 1 completed\n",
      "C:\\Users\\famcha\\AppData\\Local\\Programs\\Python\\Python312\\Lib\\site-packages\\yfinance\\utils.py:775: FutureWarning: The 'unit' keyword in TimedeltaIndex construction is deprecated and will be removed in a future version. Use pd.to_timedelta instead.\n",
      "  df.index += _pd.TimedeltaIndex(dst_error_hours, 'h')\n",
      "[*********************100%%**********************]  1 of 1 completed\n",
      "C:\\Users\\famcha\\AppData\\Local\\Programs\\Python\\Python312\\Lib\\site-packages\\yfinance\\utils.py:775: FutureWarning: The 'unit' keyword in TimedeltaIndex construction is deprecated and will be removed in a future version. Use pd.to_timedelta instead.\n",
      "  df.index += _pd.TimedeltaIndex(dst_error_hours, 'h')\n",
      "[*********************100%%**********************]  1 of 1 completed\n",
      "C:\\Users\\famcha\\AppData\\Local\\Programs\\Python\\Python312\\Lib\\site-packages\\yfinance\\utils.py:775: FutureWarning: The 'unit' keyword in TimedeltaIndex construction is deprecated and will be removed in a future version. Use pd.to_timedelta instead.\n",
      "  df.index += _pd.TimedeltaIndex(dst_error_hours, 'h')\n",
      "[*********************100%%**********************]  1 of 1 completed\n",
      "C:\\Users\\famcha\\AppData\\Local\\Programs\\Python\\Python312\\Lib\\site-packages\\yfinance\\utils.py:775: FutureWarning: The 'unit' keyword in TimedeltaIndex construction is deprecated and will be removed in a future version. Use pd.to_timedelta instead.\n",
      "  df.index += _pd.TimedeltaIndex(dst_error_hours, 'h')\n",
      "[*********************100%%**********************]  1 of 1 completed\n"
     ]
    }
   ],
   "source": [
    "a= get_data(tickers, market,start,end)\n",
    "b=capm(tickers, market,start,end,0.0463)"
   ]
  },
  {
   "cell_type": "code",
   "execution_count": 4,
   "id": "74b301c0-2481-4c60-ba75-14e10f6a7dd2",
   "metadata": {},
   "outputs": [
    {
     "name": "stderr",
     "output_type": "stream",
     "text": [
      "C:\\Users\\famcha\\AppData\\Local\\Programs\\Python\\Python312\\Lib\\site-packages\\yfinance\\utils.py:775: FutureWarning: The 'unit' keyword in TimedeltaIndex construction is deprecated and will be removed in a future version. Use pd.to_timedelta instead.\n",
      "  df.index += _pd.TimedeltaIndex(dst_error_hours, 'h')\n",
      "[*********************100%%**********************]  1 of 1 completed\n",
      "C:\\Users\\famcha\\AppData\\Local\\Programs\\Python\\Python312\\Lib\\site-packages\\yfinance\\utils.py:775: FutureWarning: The 'unit' keyword in TimedeltaIndex construction is deprecated and will be removed in a future version. Use pd.to_timedelta instead.\n",
      "  df.index += _pd.TimedeltaIndex(dst_error_hours, 'h')\n",
      "[*********************100%%**********************]  1 of 1 completed\n",
      "C:\\Users\\famcha\\AppData\\Local\\Programs\\Python\\Python312\\Lib\\site-packages\\yfinance\\utils.py:775: FutureWarning: The 'unit' keyword in TimedeltaIndex construction is deprecated and will be removed in a future version. Use pd.to_timedelta instead.\n",
      "  df.index += _pd.TimedeltaIndex(dst_error_hours, 'h')\n",
      "[*********************100%%**********************]  1 of 1 completed\n",
      "C:\\Users\\famcha\\AppData\\Local\\Programs\\Python\\Python312\\Lib\\site-packages\\yfinance\\utils.py:775: FutureWarning: The 'unit' keyword in TimedeltaIndex construction is deprecated and will be removed in a future version. Use pd.to_timedelta instead.\n",
      "  df.index += _pd.TimedeltaIndex(dst_error_hours, 'h')\n",
      "[*********************100%%**********************]  1 of 1 completed\n",
      "C:\\Users\\famcha\\AppData\\Local\\Programs\\Python\\Python312\\Lib\\site-packages\\yfinance\\utils.py:775: FutureWarning: The 'unit' keyword in TimedeltaIndex construction is deprecated and will be removed in a future version. Use pd.to_timedelta instead.\n",
      "  df.index += _pd.TimedeltaIndex(dst_error_hours, 'h')\n",
      "[*********************100%%**********************]  1 of 1 completed\n",
      "C:\\Users\\famcha\\AppData\\Local\\Programs\\Python\\Python312\\Lib\\site-packages\\yfinance\\utils.py:775: FutureWarning: The 'unit' keyword in TimedeltaIndex construction is deprecated and will be removed in a future version. Use pd.to_timedelta instead.\n",
      "  df.index += _pd.TimedeltaIndex(dst_error_hours, 'h')\n",
      "[*********************100%%**********************]  1 of 1 completed\n",
      "C:\\Users\\famcha\\AppData\\Local\\Programs\\Python\\Python312\\Lib\\site-packages\\yfinance\\utils.py:775: FutureWarning: The 'unit' keyword in TimedeltaIndex construction is deprecated and will be removed in a future version. Use pd.to_timedelta instead.\n",
      "  df.index += _pd.TimedeltaIndex(dst_error_hours, 'h')\n",
      "[*********************100%%**********************]  1 of 1 completed"
     ]
    },
    {
     "name": "stdout",
     "output_type": "stream",
     "text": [
      "Historical Data of the components :                  HES      FANG       PSX       OKE       COP       CVX\n",
      "Date                                                                  \n",
      "2023-10-17  0.016170  0.006332  0.019055 -0.007992  0.001197  0.013241\n",
      "2023-10-18  0.005792  0.008607  0.020543 -0.012516  0.009007  0.007936\n",
      "2023-10-19  0.006728 -0.005885 -0.009118  0.008304 -0.001659  0.001066\n",
      "2023-10-20 -0.018425 -0.014445 -0.014324 -0.023551 -0.018357 -0.013424\n",
      "2023-10-23 -0.010551 -0.006968 -0.004316 -0.012430 -0.021925 -0.036864\n",
      "...              ...       ...       ...       ...       ...       ...\n",
      "2024-10-07 -0.000428  0.025127 -0.000866 -0.004095  0.001572  0.002521\n",
      "2024-10-08 -0.020958 -0.028722 -0.044549 -0.013075 -0.034170 -0.015683\n",
      "2024-10-09  0.008301 -0.000103  0.018061  0.012286  0.001534  0.006050\n",
      "2024-10-10  0.006860  0.001600  0.012619 -0.000633  0.008020  0.006482\n",
      "2024-10-11  0.002582  0.004638 -0.000513  0.020277 -0.012247  0.005311\n",
      "\n",
      "[249 rows x 6 columns]\n",
      "Historical Data of the market :                Close\n",
      "Date                \n",
      "2023-10-17 -0.000098\n",
      "2023-10-18 -0.013400\n",
      "2023-10-19 -0.008483\n",
      "2023-10-20 -0.012585\n",
      "2023-10-23 -0.001686\n",
      "...              ...\n",
      "2024-10-07 -0.009586\n",
      "2024-10-08  0.009689\n",
      "2024-10-09  0.007113\n",
      "2024-10-10 -0.002070\n",
      "2024-10-11  0.006052\n",
      "\n",
      "[249 rows x 1 columns]\n"
     ]
    },
    {
     "name": "stderr",
     "output_type": "stream",
     "text": [
      "\n"
     ]
    }
   ],
   "source": [
    "tc=a.get_data_ticker()\n",
    "mr=a.get_data_market()\n",
    "tc = tc.dropna(how='all')\n",
    "mr=mr.dropna(how='all')\n",
    "print('Historical Data of the components :', tc)\n",
    "print('Historical Data of the market :', mr)"
   ]
  },
  {
   "cell_type": "code",
   "execution_count": 5,
   "id": "349ce1ad-45c6-4fc2-84de-99c6ce58dcb0",
   "metadata": {},
   "outputs": [],
   "source": [
    "beta=b.beta()\n",
    "capm=b.capm()\n",
    "sharpe=b.sharpe()\n"
   ]
  },
  {
   "cell_type": "code",
   "execution_count": 6,
   "id": "60370df5-a17c-4f55-a634-dc1882603562",
   "metadata": {},
   "outputs": [
    {
     "name": "stdout",
     "output_type": "stream",
     "text": [
      "Beta:          Close\n",
      "HES   0.535323\n",
      "FANG  0.449959\n",
      "PSX   0.495477\n",
      "OKE   0.559441\n",
      "COP   0.321759\n",
      "CVX   0.429959\n",
      "CAPM Expected Return:          Close\n",
      "HES   0.022144\n",
      "FANG  0.025996\n",
      "PSX   0.023942\n",
      "OKE   0.021056\n",
      "COP   0.031781\n",
      "CVX   0.026898\n",
      "Sharpe Ratio:              0\n",
      "HES  -1.561566\n",
      "FANG -1.221065\n",
      "PSX  -1.405606\n",
      "OKE  -2.071511\n",
      "COP  -1.076846\n",
      "CVX  -1.508495\n"
     ]
    }
   ],
   "source": [
    "print('Beta:',beta)\n",
    "print('CAPM Expected Return:', capm)\n",
    "print('Sharpe Ratio:', sharpe)"
   ]
  }
 ],
 "metadata": {
  "kernelspec": {
   "display_name": "Python 3 (ipykernel)",
   "language": "python",
   "name": "python3"
  },
  "language_info": {
   "codemirror_mode": {
    "name": "ipython",
    "version": 3
   },
   "file_extension": ".py",
   "mimetype": "text/x-python",
   "name": "python",
   "nbconvert_exporter": "python",
   "pygments_lexer": "ipython3",
   "version": "3.12.6"
  }
 },
 "nbformat": 4,
 "nbformat_minor": 5
}
